{
 "cells": [
  {
   "cell_type": "code",
   "execution_count": 2,
   "id": "c847dce3",
   "metadata": {},
   "outputs": [
    {
     "name": "stdout",
     "output_type": "stream",
     "text": [
      "(1048575, 10)\n"
     ]
    }
   ],
   "source": [
    "# Import necessary libraries\n",
    "import pandas as pd\n",
    "import mlxtend\n",
    "from mlxtend.preprocessing import TransactionEncoder\n",
    "from mlxtend.frequent_patterns import apriori, association_rules\n",
    "# Load the dataset\n",
    "df = pd.read_csv('commodity_trade_statistics_data.csv')\n",
    "# Check the shape of the dataset\n",
    "print(df.shape)\n",
    "#Replace null values\n",
    "df = df.fillna(df.mean())\n",
    "df.isnull().sum()\n",
    "# Check the shape of the dataset\n",
    "print(df.shape)\n",
    "# Load the CSV file into a Pandas DataFrame"
   ]
  },
  {
   "cell_type": "code",
   "execution_count": 3,
   "id": "2206ca85",
   "metadata": {},
   "outputs": [],
   "source": [
    "# Extract the commodity and category columns from the DataFrame\n",
    "commodity_category = df[['commodity', 'category']]\n",
    "\n",
    "# Group the data by commodity and category, and aggregate by sum of quantity and trade USD\n",
    "grouped = df.groupby(['commodity', 'category']).agg({'quantity': 'sum', 'trade_usd': 'sum'})\n",
    "\n",
    "# Convert the grouped data to a list of transactions\n",
    "transactions = []\n",
    "for row in grouped.itertuples():\n",
    "    transaction = [row.Index[0], row.Index[1], row.quantity, row.trade_usd]\n",
    "    transactions.append(transaction)\n",
    "\n",
    "# Convert the transaction list to a one-hot encoded DataFrame\n",
    "te = TransactionEncoder()\n",
    "te_ary = te.fit(transactions).transform(transactions)\n",
    "onehot = pd.DataFrame(te_ary, columns=te.columns_)\n",
    "\n",
    "# Find the frequent itemsets using Apriori algorithm\n",
    "frequent_itemsets = apriori(onehot, min_support=0.1, use_colnames=True)\n",
    "\n",
    "# Generate the association rules\n",
    "rules = association_rules(frequent_itemsets, metric=\"lift\", min_threshold=1)\n",
    "\n",
    "# Sort the rules by support and confidence, and print the top 10 rules\n",
    "sorted_rules = rules.sort_values(['support', 'confidence'], ascending=[False, False])\n",
    "print(sorted_rules.head(10))"
   ]
  },
  {
   "cell_type": "code",
   "execution_count": null,
   "id": "29eef7da",
   "metadata": {},
   "outputs": [],
   "source": []
  }
 ],
 "metadata": {
  "kernelspec": {
   "display_name": "Python 3",
   "language": "python",
   "name": "python3"
  },
  "language_info": {
   "codemirror_mode": {
    "name": "ipython",
    "version": 3
   },
   "file_extension": ".py",
   "mimetype": "text/x-python",
   "name": "python",
   "nbconvert_exporter": "python",
   "pygments_lexer": "ipython3",
   "version": "3.10.6"
  }
 },
 "nbformat": 4,
 "nbformat_minor": 5
}
