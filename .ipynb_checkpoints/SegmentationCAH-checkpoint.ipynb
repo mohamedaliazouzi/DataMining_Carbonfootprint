{
 "cells": [
  {
   "cell_type": "code",
   "execution_count": 61,
   "id": "b3f1ce94",
   "metadata": {},
   "outputs": [],
   "source": [
    "import pandas as pd\n",
    "import numpy as np\n",
    "import matplotlib.pyplot as plt\n",
    "from scipy.cluster.hierarchy import dendrogram, linkage\n",
    "from sklearn.preprocessing import MinMaxScaler\n",
    "from scipy.spatial.distance import pdist\n",
    "from scipy.cluster.hierarchy import fcluster\n",
    "from sklearn.metrics import silhouette_score\n"
   ]
  },
  {
   "cell_type": "code",
   "execution_count": 62,
   "id": "262741e9",
   "metadata": {},
   "outputs": [
    {
     "name": "stdout",
     "output_type": "stream",
     "text": [
      "                           Carbon Footprint\n",
      "Country                                    \n",
      "Afghanistan                            0.18\n",
      "Albania                                0.87\n",
      "Algeria                                1.14\n",
      "Angola                                 0.20\n",
      "Antigua and Barbuda                     NaN\n",
      "...                                     ...\n",
      "Viet Nam                               0.79\n",
      "Wallis and Futuna Islands               NaN\n",
      "Yemen                                  0.42\n",
      "Zambia                                 0.24\n",
      "Zimbabwe                               0.53\n",
      "\n",
      "[188 rows x 1 columns]\n"
     ]
    }
   ],
   "source": [
    "#in this cell we've tried to define the exact n_components value\n",
    "# Load the dataset\n",
    "df = pd.read_csv('countries.csv',usecols=['Country','Carbon Footprint'],index_col='Country')\n",
    "#Replace null values\n",
    "print(df)"
   ]
  },
  {
   "cell_type": "code",
   "execution_count": 63,
   "id": "47e02bcc",
   "metadata": {},
   "outputs": [],
   "source": [
    "scaler = MinMaxScaler()\n",
    "df_scaled = scaler.fit_transform(df[['Carbon Footprint']])\n",
    "df_scaled = np.nan_to_num(df_scaled, nan=0)"
   ]
  },
  {
   "cell_type": "code",
   "execution_count": 64,
   "id": "839bf81c",
   "metadata": {},
   "outputs": [],
   "source": [
    "dist = pdist(df_scaled, metric='euclidean')"
   ]
  },
  {
   "cell_type": "code",
   "execution_count": 76,
   "id": "ca515346",
   "metadata": {},
   "outputs": [
    {
     "data": {
      "image/png": "[encoded data removed]",
      "text/plain": [
       "<Figure size 432x288 with 1 Axes>"
      ]
     },
     "metadata": {
      "needs_background": "light"
     },
     "output_type": "display_data"
    }
   ],
   "source": [
    "linkage_matrix = linkage(df_scaled, method='ward')\n",
    "silhouette_scores = []\n",
    "for i in range(2, 189):\n",
    "    clusters = fcluster(linkage_matrix, i, criterion='maxclust')\n",
    "    silhouette_scores.append(silhouette_score(df_scaled, clusters))\n",
    "plt.plot(range(2, 189), silhouette_scores, marker='o')\n",
    "plt.xlabel('Number of clusters')\n",
    "plt.ylabel('Average silhouette score')\n",
    "plt.show()"
   ]
  },
  {
   "cell_type": "code",
   "execution_count": 54,
   "id": "7c888590",
   "metadata": {},
   "outputs": [
    {
     "data": {
      "image/png": "[encoded data removed]",
      "text/plain": [
       "<Figure size 720x504 with 1 Axes>"
      ]
     },
     "metadata": {
      "needs_background": "light"
     },
     "output_type": "display_data"
    }
   ],
   "source": [
    "plt.figure(figsize=(10, 7))\n",
    "dendrogram(linkage_matrix, orientation='top', distance_sort='descending', show_leaf_counts=True)\n",
    "plt.show()"
   ]
  },
  {
   "cell_type": "code",
   "execution_count": 77,
   "id": "9c9c37fb",
   "metadata": {},
   "outputs": [],
   "source": [
    "\n",
    "clusters = fcluster(linkage_matrix, 30, criterion='maxclust')"
   ]
  },
  {
   "cell_type": "code",
   "execution_count": 78,
   "id": "51ea2fcb",
   "metadata": {},
   "outputs": [],
   "source": [
    "df['Cluster'] = clusters"
   ]
  },
  {
   "cell_type": "code",
   "execution_count": 79,
   "id": "15748d5c",
   "metadata": {},
   "outputs": [
    {
     "name": "stdout",
     "output_type": "stream",
     "text": [
      "Cluster\n",
      "1     12.650000\n",
      "2      9.570000\n",
      "3      4.196667\n",
      "4      4.925000\n",
      "5      4.517500\n",
      "6      6.890000\n",
      "7      5.870000\n",
      "8      6.280000\n",
      "9      0.270000\n",
      "10     0.170714\n",
      "11     0.078667\n",
      "12     0.020000\n",
      "13     1.243333\n",
      "14     1.041429\n",
      "15     0.524000\n",
      "16     0.404444\n",
      "17     0.655455\n",
      "18     0.853333\n",
      "19     1.932500\n",
      "20     2.123636\n",
      "21     1.718571\n",
      "22     1.560000\n",
      "23     1.418333\n",
      "24     2.975000\n",
      "25     2.785000\n",
      "26     2.348000\n",
      "27     2.586667\n",
      "28     3.241111\n",
      "29     3.875000\n",
      "30     3.556667\n",
      "Name: Carbon Footprint, dtype: float64\n"
     ]
    }
   ],
   "source": [
    "print(df.groupby('Cluster')['Carbon Footprint'].mean())"
   ]
  },
  {
   "cell_type": "code",
   "execution_count": null,
   "id": "538890e1",
   "metadata": {},
   "outputs": [],
   "source": []
  }
 ],
 "metadata": {
  "kernelspec": {
   "display_name": "Python 3",
   "language": "python",
   "name": "python3"
  },
  "language_info": {
   "codemirror_mode": {
    "name": "ipython",
    "version": 3
   },
   "file_extension": ".py",
   "mimetype": "text/x-python",
   "name": "python",
   "nbconvert_exporter": "python",
   "pygments_lexer": "ipython3",
   "version": "3.8.8"
  }
 },
 "nbformat": 4,
 "nbformat_minor": 5
}
